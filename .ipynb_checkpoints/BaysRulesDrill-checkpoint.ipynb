{
 "cells": [
  {
   "cell_type": "markdown",
   "metadata": {},
   "source": [
    "<h2>Setup</h2>\n",
    "<p>A diagnostic test has a 98% probability of giving a positive result when applied to a person suffering from Thripshaw's Disease, and 10% probability of giving a (false) positive when applied to a non-sufferer. It is estimated that 0.5 % of the population are sufferers. Suppose that the test is now administered to a person whose disease status is unknown. Calculate the probability that the test will:\n",
    "\n",
    "1. Be positive\n",
    "2. Correctly diagnose a sufferer of Thripshaw's\n",
    "3. Correctly identify a non-sufferer of Thripshaw's\n",
    "4. Misclassify the person</p>\n",
    "\n",
    "<h3>Answers:</h3>\n",
    "<p>\n",
    "1. P(Positive) = P(positive and sick) + P(positive and not sick)\n",
    "               = 0.0069\n",
    "               \n",
    "2. P(Sick | Positive) = P(Positive | Sick) * P(Sick) / P(Positive)\n",
    "               = 0.7101449275362318\n",
    "\n",
    "3. P(Not Sick | Negative) = P(Negative | Not Sick) * P(Not Sick) / P(Negative)\n",
    "               = 0.9017218809787534\n",
    "\n",
    "4. P((positive and not sick) OR (negative and sick)) = P(Positive and not sick) + P(Negative and sick\n",
    "               = 0.3881331914850148\n",
    "               \n",
    "</p>"
   ]
  },
  {
   "cell_type": "code",
   "execution_count": 5,
   "metadata": {
    "collapsed": false
   },
   "outputs": [
    {
     "name": "stdout",
     "output_type": "stream",
     "text": [
      "0.0069\n",
      "0.7101449275362318\n",
      "0.9017218809787534\n",
      "0.3881331914850148\n"
     ]
    }
   ],
   "source": [
    "def Bayes(B_given_A, A, B):\n",
    "    return B_given_A * A / B\n",
    "\n",
    "#Work for 1\n",
    "p = 0.98 * 0.005 + 0.02 * 0.1\n",
    "print(p)\n",
    "\n",
    "#Work for 2\n",
    "print(Bayes(0.98, 0.005, 0.0069))\n",
    "\n",
    "#Work for 3\n",
    "print(Bayes(0.90, 1 - 0.005, 1 - 0.0069))\n",
    "\n",
    "#Work for 4\n",
    "print((1 - Bayes(0.98, 0.005, 0.0069)) + (1 - Bayes(0.90, 1 - 0.005, 1 - 0.0069)))"
   ]
  }
 ],
 "metadata": {
  "kernelspec": {
   "display_name": "Python 3",
   "language": "python",
   "name": "python3"
  },
  "language_info": {
   "codemirror_mode": {
    "name": "ipython",
    "version": 3
   },
   "file_extension": ".py",
   "mimetype": "text/x-python",
   "name": "python",
   "nbconvert_exporter": "python",
   "pygments_lexer": "ipython3",
   "version": "3.6.0"
  }
 },
 "nbformat": 4,
 "nbformat_minor": 2
}
